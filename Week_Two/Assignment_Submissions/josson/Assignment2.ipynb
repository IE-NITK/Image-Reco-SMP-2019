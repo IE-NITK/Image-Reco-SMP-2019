{
  "nbformat": 4,
  "nbformat_minor": 0,
  "metadata": {
    "colab": {
      "name": "Assignment2.ipynb",
      "version": "0.3.2",
      "provenance": [],
      "collapsed_sections": []
    },
    "kernelspec": {
      "name": "python3",
      "display_name": "Python 3"
    }
  },
  "cells": [
    {
      "cell_type": "code",
      "metadata": {
        "id": "dCwRbPuX9Lj0",
        "colab_type": "code",
        "colab": {}
      },
      "source": [
        "import numpy as np"
      ],
      "execution_count": 0,
      "outputs": []
    },
    {
      "cell_type": "code",
      "metadata": {
        "id": "T8T0gA2I9QfV",
        "colab_type": "code",
        "colab": {}
      },
      "source": [
        "def Hypothesis(theta,x):\n",
        "  H_x = np.ones(np.size(X,0))\n",
        "  i=0\n",
        "  while i < np.size(X,0):\n",
        "    H_x[i] = theta[0] + theta[1]*x[i][0] + theta[2]*x[i][1]\n",
        "    i=i+1\n",
        "  return H_x"
      ],
      "execution_count": 0,
      "outputs": []
    },
    {
      "cell_type": "code",
      "metadata": {
        "id": "zYcGVdNP9VmQ",
        "colab_type": "code",
        "colab": {}
      },
      "source": [
        "def Cost_Function(X,Y,theta,m):\n",
        "    i=0\n",
        "    J=0\n",
        "    while i < m:\n",
        "      J=J+1/(2*m)*(Hypothesis(theta,X)[i]-Y[i])*(Hypothesis(theta,X)[i]-Y[i])\n",
        "      i=i+1\n",
        "    return J"
      ],
      "execution_count": 0,
      "outputs": []
    },
    {
      "cell_type": "code",
      "metadata": {
        "id": "QxpS_SmB9Xsm",
        "colab_type": "code",
        "colab": {}
      },
      "source": [
        "def Gradient_Descent(X,Y,theta, m, alpha):\n",
        "    i=0\n",
        "    d2=0\n",
        "    d3=0\n",
        "    d1=0\n",
        "    while i<m:\n",
        "      d2 = d2 + (Hypothesis(theta,X)[i]-Y[i])*X[i][0]\n",
        "      d3 = d3 + (Hypothesis(theta,X)[i]-Y[i])*X[i][1]\n",
        "      d1 = d1 + (Hypothesis(theta,X)[i]-Y[i])\n",
        "      i=i+1\n",
        "    theta[0]=theta[0]- alpha*d1\n",
        "    theta[1]=theta[1]-alpha*d2\n",
        "    theta[2]=theta[2]-alpha*d3\n",
        "    return theta"
      ],
      "execution_count": 0,
      "outputs": []
    },
    {
      "cell_type": "code",
      "metadata": {
        "id": "phjsx8kq9aDT",
        "colab_type": "code",
        "colab": {}
      },
      "source": [
        "def Linear_Regression(X,Y,alpha,theta,num_iters):\n",
        "  i=0\n",
        "  m=9\n",
        "  print(\"Initial Cost Function = \",Cost_Function(X,Y,theta,m))\n",
        "  while i< num_iters:\n",
        "    new_theta = Gradient_Descent(X,Y,theta,m,alpha)\n",
        "    theta = new_theta\n",
        "    #print(Cost_Function(X,Y,theta,m))\n",
        "    i=i+1\n",
        "  print(\"Final Cost Function = \",Cost_Function(X,Y,new_theta,m))\n",
        "  return new_theta"
      ],
      "execution_count": 0,
      "outputs": []
    },
    {
      "cell_type": "code",
      "metadata": {
        "id": "i9XkwarH9dgZ",
        "colab_type": "code",
        "colab": {
          "base_uri": "https://localhost:8080/",
          "height": 101
        },
        "outputId": "1630baa9-29fa-46cf-f4a2-d934a9aa410e"
      },
      "source": [
        "Y= np.array([19, 20, 20.5, 21.5, 22, 23, 23, 25.5, 24])\n",
        "X = np.array([[1,1],[1,2],[1,3],[1,4],[1,5],[1,6],[1,7],[1,8],[1,9]])\n",
        "alpha = 0.001\n",
        "iterations = 5000\n",
        "theta = np.ones(3)\n",
        "final_theta = Linear_Regression(X,Y,alpha,theta,iterations)\n",
        "print(\"theta0 =\",theta[0])\n",
        "print(\"theta1 =\",theta[1])\n",
        "print(\"theta2 = \",theta[2])"
      ],
      "execution_count": 254,
      "outputs": [
        {
          "output_type": "stream",
          "text": [
            "Initial Cost Function =  113.76388888888889\n",
            "Final Cost Function =  0.16141975308642476\n",
            "theta0 = 9.236110999136141\n",
            "theta1 = 9.236110999136141\n",
            "theta2 =  0.716666702480486\n"
          ],
          "name": "stdout"
        }
      ]
    },
    {
      "cell_type": "code",
      "metadata": {
        "id": "hR7h6Im19g31",
        "colab_type": "code",
        "outputId": "4e672af6-63b5-4823-c435-609d5d3b2e65",
        "colab": {
          "base_uri": "https://localhost:8080/",
          "height": 34
        }
      },
      "source": [
        "print(\"Have fun!\")"
      ],
      "execution_count": 255,
      "outputs": [
        {
          "output_type": "stream",
          "text": [
            "Have fun!\n"
          ],
          "name": "stdout"
        }
      ]
    },
    {
      "cell_type": "code",
      "metadata": {
        "id": "xCjSvdOj9jYh",
        "colab_type": "code",
        "colab": {}
      },
      "source": [
        ""
      ],
      "execution_count": 0,
      "outputs": []
    }
  ]
}