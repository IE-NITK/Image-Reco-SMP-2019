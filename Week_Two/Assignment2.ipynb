{
  "nbformat": 4,
  "nbformat_minor": 0,
  "metadata": {
    "colab": {
      "name": "Assignment2.ipynb",
      "version": "0.3.2",
      "provenance": []
    },
    "kernelspec": {
      "name": "python3",
      "display_name": "Python 3"
    }
  },
  "cells": [
    {
      "cell_type": "code",
      "metadata": {
        "id": "dCwRbPuX9Lj0",
        "colab_type": "code",
        "colab": {}
      },
      "source": [
        "import numpy as np"
      ],
      "execution_count": 0,
      "outputs": []
    },
    {
      "cell_type": "code",
      "metadata": {
        "id": "T8T0gA2I9QfV",
        "colab_type": "code",
        "colab": {}
      },
      "source": [
        "def Hypothesis(theta,x):\n",
        "    return H_x"
      ],
      "execution_count": 0,
      "outputs": []
    },
    {
      "cell_type": "code",
      "metadata": {
        "id": "zYcGVdNP9VmQ",
        "colab_type": "code",
        "colab": {}
      },
      "source": [
        "def Cost_Function(X,Y,theta,m):\n",
        "    return J\n",
        "\n"
      ],
      "execution_count": 0,
      "outputs": []
    },
    {
      "cell_type": "code",
      "metadata": {
        "id": "QxpS_SmB9Xsm",
        "colab_type": "code",
        "colab": {}
      },
      "source": [
        "def Gradient_Descent(X,Y,theta, m, alpha):\n",
        "\n",
        "    return theta"
      ],
      "execution_count": 0,
      "outputs": []
    },
    {
      "cell_type": "code",
      "metadata": {
        "id": "phjsx8kq9aDT",
        "colab_type": "code",
        "colab": {}
      },
      "source": [
        "def Linear_Regression(X,Y,alpha,theta,num_iters):\n",
        "\n",
        "\treturn new_theta"
      ],
      "execution_count": 0,
      "outputs": []
    },
    {
      "cell_type": "code",
      "metadata": {
        "id": "i9XkwarH9dgZ",
        "colab_type": "code",
        "colab": {}
      },
      "source": [
        "Y= np.array([19, 20, 20.5, 21.5, 22, 23, 23, 25.5, 24])\n",
        "X = np.array([[1,1],[1,2],[1,3],[1,4],[1,5],[1,6],[1,7],[1,8],[1,9]])\n",
        "alpha = 0.01\n",
        "iterations = 2000\n",
        "theta = np.ones(2)\n",
        "Linear_Regression(X,Y,alpha,theta,iterations)"
      ],
      "execution_count": 0,
      "outputs": []
    },
    {
      "cell_type": "code",
      "metadata": {
        "id": "hR7h6Im19g31",
        "colab_type": "code",
        "colab": {
          "base_uri": "https://localhost:8080/",
          "height": 34
        },
        "outputId": "e9d08237-9857-4b62-8030-d4a9042490a1"
      },
      "source": [
        "print(\"Have fun!\")"
      ],
      "execution_count": 1,
      "outputs": [
        {
          "output_type": "stream",
          "text": [
            "Have fun!\n"
          ],
          "name": "stdout"
        }
      ]
    },
    {
      "cell_type": "code",
      "metadata": {
        "id": "xCjSvdOj9jYh",
        "colab_type": "code",
        "colab": {}
      },
      "source": [
        ""
      ],
      "execution_count": 0,
      "outputs": []
    }
  ]
}