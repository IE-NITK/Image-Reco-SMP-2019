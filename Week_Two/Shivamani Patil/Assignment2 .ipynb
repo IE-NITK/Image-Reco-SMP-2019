{
  "nbformat": 4,
  "nbformat_minor": 0,
  "metadata": {
    "colab": {
      "name": "Assignment2.ipynb",
      "version": "0.3.2",
      "provenance": [],
      "collapsed_sections": []
    },
    "kernelspec": {
      "name": "python3",
      "display_name": "Python 3"
    }
  },
  "cells": [
    {
      "cell_type": "code",
      "metadata": {
        "id": "dCwRbPuX9Lj0",
        "colab_type": "code",
        "colab": {}
      },
      "source": [
        "import numpy as np\n",
        "import matplotlib.pyplot as plt"
      ],
      "execution_count": 0,
      "outputs": []
    },
    {
      "cell_type": "code",
      "metadata": {
        "id": "T8T0gA2I9QfV",
        "colab_type": "code",
        "colab": {}
      },
      "source": [
        "def Hypothesis(theta,x):\n",
        "    \n",
        "    return x.dot(theta)"
      ],
      "execution_count": 0,
      "outputs": []
    },
    {
      "cell_type": "code",
      "metadata": {
        "id": "zYcGVdNP9VmQ",
        "colab_type": "code",
        "colab": {}
      },
      "source": [
        "def Cost_Function(X,Y,theta,m):\n",
        "  \n",
        "  J = (np.sum(np.power((Hypothesis(theta,X) - Y),2)))/(2*m)\n",
        "  return J\n",
        "\n"
      ],
      "execution_count": 0,
      "outputs": []
    },
    {
      "cell_type": "code",
      "metadata": {
        "id": "phjsx8kq9aDT",
        "colab_type": "code",
        "colab": {}
      },
      "source": [
        "def Linear_Regression(X,Y,alpha,theta,num_iters):\n",
        "  \n",
        "  m = len(Y)\n",
        "  for i in range(num_iters):\n",
        "    theta = theta - (1/m)*alpha*( X.T.dot(Hypothesis(theta,X) - Y))\n",
        "    if i % 100 == 0:\n",
        "      print(Cost_Function(X,Y,theta,m))\n",
        "  return theta"
      ],
      "execution_count": 0,
      "outputs": []
    },
    {
      "cell_type": "code",
      "metadata": {
        "id": "i9XkwarH9dgZ",
        "colab_type": "code",
        "outputId": "77ae3881-b5c7-46dc-edaa-357be1af9679",
        "colab": {
          "base_uri": "https://localhost:8080/",
          "height": 658
        }
      },
      "source": [
        "Y= np.array([19, 20, 20.5, 21.5, 22, 23, 23, 25.5, 24]).reshape(-1,1)\n",
        "X = np.array([[1,1],[1,2],[1,3],[1,4],[1,5],[1,6],[1,7],[1,8],[1,9]]).reshape(9,2)\n",
        "alpha = 0.01\n",
        "iterations = 2000\n",
        "theta = np.ones(2).reshape(-1,1)\n",
        "print(Linear_Regression(X,Y,alpha,theta,iterations))\n"
      ],
      "execution_count": 0,
      "outputs": [
        {
          "output_type": "stream",
          "text": [
            "75.6649294238683\n",
            "20.450310801483422\n",
            "13.610430435266728\n",
            "9.076440682418616\n",
            "6.070969536977761\n",
            "4.078716069619724\n",
            "2.758099871317142\n",
            "1.8826956259266687\n",
            "1.3024115177711988\n",
            "0.9177553455503425\n",
            "0.6627761573421493\n",
            "0.49375667679164614\n",
            "0.3817177884168228\n",
            "0.3074499438619836\n",
            "0.25821960237224484\n",
            "0.22558601057052982\n",
            "0.2039539990578126\n",
            "0.1896146666015652\n",
            "0.18010947309840974\n",
            "0.17380871231975778\n",
            "[[18.19235414]\n",
            " [ 0.76114483]]\n"
          ],
          "name": "stdout"
        },
        {
          "output_type": "display_data",
          "data": {
            "image/png": "[encoded data removed]",
            "text/plain": [
              "<Figure size 432x288 with 1 Axes>"
            ]
          },
          "metadata": {
            "tags": []
          }
        }
      ]
    },
    {
      "cell_type": "code",
      "metadata": {
        "id": "hR7h6Im19g31",
        "colab_type": "code",
        "outputId": "e9d08237-9857-4b62-8030-d4a9042490a1",
        "colab": {
          "base_uri": "https://localhost:8080/",
          "height": 34
        }
      },
      "source": [
        "print(\"Have fun!\")"
      ],
      "execution_count": 0,
      "outputs": [
        {
          "output_type": "stream",
          "text": [
            "Have fun!\n"
          ],
          "name": "stdout"
        }
      ]
    },
    {
      "cell_type": "code",
      "metadata": {
        "id": "xCjSvdOj9jYh",
        "colab_type": "code",
        "colab": {}
      },
      "source": [
        ""
      ],
      "execution_count": 0,
      "outputs": []
    }
  ]
}