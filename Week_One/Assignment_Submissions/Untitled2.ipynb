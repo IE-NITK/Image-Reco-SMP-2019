{
  "nbformat": 4,
  "nbformat_minor": 0,
  "metadata": {
    "colab": {
      "name": "Untitled2.ipynb",
      "version": "0.3.2",
      "provenance": [],
      "collapsed_sections": []
    },
    "kernelspec": {
      "name": "python3",
      "display_name": "Python 3"
    }
  },
  "cells": [
    {
      "cell_type": "code",
      "metadata": {
        "id": "RYlR9dl-eJAR",
        "colab_type": "code",
        "colab": {
          "base_uri": "https://localhost:8080/",
          "height": 437
        },
        "outputId": "d6174fcc-50d5-42a3-f96a-4db6052676d8"
      },
      "source": [
        "import numpy as np\n",
        "import random\n",
        "z = np.array([[0, 0, 0], [0, 0, 0],[0,0,0]]);\n",
        "i=0\n",
        "win=0\n",
        "value = 0\n",
        "while(i<5):\n",
        "  value=0\n",
        "  while(value==0):\n",
        "    x= input(\"enter the x cordinate(1-3):\")\n",
        "    y= input(\"enter the y cordinate(1-3):\")\n",
        "    valx=int(x)-1\n",
        "    valy=int(y)-1\n",
        "    if(z[valx,valy]==0):\n",
        "      z[valx,valy]=1\n",
        "      i=i+1;\n",
        "      value=1\n",
        "    else:\n",
        "      print(\"WRONG ENTRY\")\n",
        "  value=0\n",
        "  while(value==0 and i<5):\n",
        "    compvalx=random.randint(0,2)\n",
        "    compvaly=random.randint(0,2)\n",
        "    if(z[compvalx,compvaly]==0):\n",
        "        value=1\n",
        "  z[compvalx,compvaly]=2\n",
        "  for j in range(0,3):\n",
        "    if(z[j][0]==1 and z[j][1]==1 and z[j][2]==1):\n",
        "      print(\"YOU WIN\")\n",
        "      win=1\n",
        "    elif(z[0][j]==1 and z[1][j]==1 and z[2][j]==1):\n",
        "      print(\"YOU WIN\")\n",
        "      win=1\n",
        "  for p in range(0,3):\n",
        "    for q in range (0,3):\n",
        "      if(z[p,q]==1):\n",
        "        print(\"X \",end='')\n",
        "      elif(z[p,q]==2):\n",
        "        print(\"O \",end='')\n",
        "      else:\n",
        "        print(\"- \",end='')\n",
        "    print(\"\\n\")\n",
        "  if(z[0][0]==1 and z[1][1]==1 and z[2][2]==1):\n",
        "    print(\"YOU WIN\")\n",
        "    win=1\n",
        "  elif(z[0][2]==1 and z[1][1]==1 and z[2][0]==1):\n",
        "    print(\"YOU WIN\")\n",
        "    win=1\n",
        "  for j in range(0,3):\n",
        "    if(z[j][0]==2 and z[j][1]==2 and z[j][2]==2):\n",
        "      print(\"YOU LOSE\")\n",
        "      win=1\n",
        "    elif(z[0][j]==2 and z[1][j]==2 and z[2][j]==2):\n",
        "      print(\"YOU LOSE\")\n",
        "      win=1\n",
        "    \n",
        "  if(z[0][0]==2 and z[1][1]==2 and z[2][2]==2):\n",
        "    print(\"YOU LOSE\")\n",
        "    win=1\n",
        "  elif(z[0][2]==2 and z[1][1]==2 and z[2][0]==2):\n",
        "    print(\"YOU LOSE\")\n",
        "    win=1\n",
        "  if(win==1):\n",
        "    break\n",
        "if(win==0):\n",
        "  print(\"GAME TIED\")"
      ],
      "execution_count": 66,
      "outputs": [
        {
          "output_type": "stream",
          "text": [
            "enter the x cordinate(1-3):1\n",
            "enter the y cordinate(1-3):1\n",
            "X - - \n",
            "\n",
            "- - - \n",
            "\n",
            "- O - \n",
            "\n",
            "enter the x cordinate(1-3):2\n",
            "enter the y cordinate(1-3):2\n",
            "X - - \n",
            "\n",
            "O X - \n",
            "\n",
            "- O - \n",
            "\n",
            "enter the x cordinate(1-3):3\n",
            "enter the y cordinate(1-3):3\n",
            "X O - \n",
            "\n",
            "O X - \n",
            "\n",
            "- O X \n",
            "\n",
            "YOU WIN\n"
          ],
          "name": "stdout"
        }
      ]
    },
    {
      "cell_type": "code",
      "metadata": {
        "id": "RPc-_-HSenKq",
        "colab_type": "code",
        "colab": {
          "base_uri": "https://localhost:8080/",
          "height": 151
        },
        "outputId": "bc1d44bb-f875-4960-fee0-a784a4207968"
      },
      "source": [
        "import numpy as np\n",
        "x=np.zeros(shape=(2,2))\n",
        "m=input(\"enter m:\")\n",
        "newm=int(m)\n",
        "n=input(\"enter n:\")\n",
        "newn=int(n)\n",
        "for i in range(0,newm):\n",
        "  for j in range(0,newn):\n",
        "    s=input(\"enter the integer:\")\n",
        "    value=int(s)\n",
        "    x[i,j]=value;\n",
        "print(x)  \n",
        "  "
      ],
      "execution_count": 83,
      "outputs": [
        {
          "output_type": "stream",
          "text": [
            "enter m:2\n",
            "enter n:2\n",
            "enter the integer:1\n",
            "enter the integer:2\n",
            "enter the integer:3\n",
            "enter the integer:4\n",
            "[[1. 2.]\n",
            " [3. 4.]]\n"
          ],
          "name": "stdout"
        }
      ]
    },
    {
      "cell_type": "code",
      "metadata": {
        "id": "yx5Z2jBCq0um",
        "colab_type": "code",
        "colab": {}
      },
      "source": [
        ""
      ],
      "execution_count": 0,
      "outputs": []
    }
  ]
}